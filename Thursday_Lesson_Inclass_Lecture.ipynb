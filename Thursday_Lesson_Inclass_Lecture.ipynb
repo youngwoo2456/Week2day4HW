{
 "cells": [
  {
   "cell_type": "markdown",
   "metadata": {},
   "source": [
    "# Object-Oriented-Programming (OOP)"
   ]
  },
  {
   "cell_type": "markdown",
   "metadata": {},
   "source": [
    "## Tasks Today:\n",
    "\n",
    "   \n",
    "\n",
    "1) <b>Creating a Class (Initializing/Declaring)</b> <br>\n",
    "2) <b>Using a Class (Instantiating)</b> <br>\n",
    " &nbsp;&nbsp;&nbsp;&nbsp; a) Creating One Instance <br>\n",
    " &nbsp;&nbsp;&nbsp;&nbsp; b) Creating Multiple Instances <br>\n",
    " &nbsp;&nbsp;&nbsp;&nbsp; c) In-Class Exercise #1 - Create a Class 'Car' and instantiate three different makes of cars <br>\n",
    "3) <b>The \\__init\\__() Method</b> <br>\n",
    " &nbsp;&nbsp;&nbsp;&nbsp; a) The 'self' Attribute <br>\n",
    "4) <b>Class Attributes</b> <br>\n",
    " &nbsp;&nbsp;&nbsp;&nbsp; a) Initializing Attributes <br>\n",
    " &nbsp;&nbsp;&nbsp;&nbsp; b) Setting an Attribute Outside of the \\__init\\__() Method <br>\n",
    " &nbsp;&nbsp;&nbsp;&nbsp; c) Setting Defaults for Attributes <br>\n",
    " &nbsp;&nbsp;&nbsp;&nbsp; d) Accessing Class Attributes <br>\n",
    " &nbsp;&nbsp;&nbsp;&nbsp; e) Changing Class Attributes <br>\n",
    " &nbsp;&nbsp;&nbsp;&nbsp; f) In-Class Exercise #2 - Add a color and wheels attribute to your 'Car' class <br>\n",
    "5) <b>Class Methods</b> <br>\n",
    " &nbsp;&nbsp;&nbsp;&nbsp; a) Creating <br>\n",
    " &nbsp;&nbsp;&nbsp;&nbsp; b) Calling <br>\n",
    " &nbsp;&nbsp;&nbsp;&nbsp; c) Modifying an Attribute's Value Through a Method <br>\n",
    " &nbsp;&nbsp;&nbsp;&nbsp; d) Incrementing an Attribute's Value Through a Method <br>\n",
    " &nbsp;&nbsp;&nbsp;&nbsp; e) In-Class Exercise #3 - Add a method that prints the cars color and wheel number, then call them <br>\n",
    "6) <b>Inheritance</b> <br>\n",
    " &nbsp;&nbsp;&nbsp;&nbsp; a) Syntax for Inheriting from a Parent Class <br>\n",
    " &nbsp;&nbsp;&nbsp;&nbsp; b) The \\__init\\__() Method for a Child Class (super()) <br>\n",
    " &nbsp;&nbsp;&nbsp;&nbsp; c) Defining Attributes and Methods for the Child Class <br>\n",
    " &nbsp;&nbsp;&nbsp;&nbsp; d) Method Overriding <br>\n",
    " &nbsp;&nbsp;&nbsp;&nbsp; e) In-Class Exercise #4 - Create a class 'Ford' that inherits from 'Car' class and initialize it as a Blue Ford Explorer with 4 wheels using the super() method <br>\n",
    "7) <b>Classes as Attributes</b> <br>\n",
    "8) <b>Exercises</b> <br>\n",
    " &nbsp;&nbsp;&nbsp;&nbsp; a) Exercise #1 - Turn the shopping cart program from yesterday into an object-oriented program <br>"
   ]
  },
  {
   "cell_type": "code",
   "execution_count": null,
   "metadata": {},
   "outputs": [],
   "source": []
  },
  {
   "cell_type": "code",
   "execution_count": null,
   "metadata": {},
   "outputs": [],
   "source": [
    "# Circumfrance of a cirle\n"
   ]
  },
  {
   "cell_type": "markdown",
   "metadata": {},
   "source": [
    "## Creating a Class (Initializing/Declaring)\n",
    "<p>When creating a class, function, or even a variable you are initializing that object. Initializing and Declaring occur at the same time in Python, whereas in lower level languages you have to declare an object before initializing it. This is the first step in the process of using a class.</p>"
   ]
  },
  {
   "cell_type": "code",
   "execution_count": 1,
   "metadata": {},
   "outputs": [],
   "source": [
    "#start with class <Variable_name starting w/ capital letter>()\n",
    "class Car(): \n",
    "    wheels = 4\n",
    "    color = 'blue'\n",
    "    "
   ]
  },
  {
   "cell_type": "markdown",
   "metadata": {},
   "source": [
    "## Using a Class (Instantiating)\n",
    "<p>The process of creating a class is called <i>Instantiating</i>. Each time you create a variable of that type of class, it is referred to as an <i>Instance</i> of that class. This is the second step in the process of using a class.</p>"
   ]
  },
  {
   "cell_type": "markdown",
   "metadata": {},
   "source": [
    "##### Creating One Instance"
   ]
  },
  {
   "cell_type": "code",
   "execution_count": 3,
   "metadata": {},
   "outputs": [
    {
     "name": "stdout",
     "output_type": "stream",
     "text": [
      "4\n",
      "blue\n"
     ]
    }
   ],
   "source": [
    "ford = Car()  #saying vairable ford is an instance of Class Car\n",
    "print(ford.wheels)\n",
    "print(ford.color)    #accessing the attributes color & wheels"
   ]
  },
  {
   "cell_type": "markdown",
   "metadata": {},
   "source": [
    "##### Creating Multiple Instances"
   ]
  },
  {
   "cell_type": "code",
   "execution_count": 8,
   "metadata": {},
   "outputs": [
    {
     "name": "stdout",
     "output_type": "stream",
     "text": [
      "<class '__main__.Car'>\n",
      "4\n"
     ]
    },
    {
     "data": {
      "text/plain": [
       "True"
      ]
     },
     "execution_count": 8,
     "metadata": {},
     "output_type": "execute_result"
    }
   ],
   "source": [
    "chevy = Car()\n",
    "honda = Car()\n",
    "porsche = Car()\n",
    "\n",
    "print(type(chevy))    #it is a car type\n",
    "print(chevy.wheels)\n",
    "\n",
    "chevy.wheels == honda.wheels # will come out as true"
   ]
  },
  {
   "cell_type": "markdown",
   "metadata": {},
   "source": [
    "##### In-Class Exercise #1 - Create a Class 'Car' and Instantiate three different makes of cars"
   ]
  },
  {
   "cell_type": "code",
   "execution_count": 13,
   "metadata": {},
   "outputs": [
    {
     "name": "stdout",
     "output_type": "stream",
     "text": [
      "4\n",
      "False\n"
     ]
    }
   ],
   "source": [
    "#attribute door(int) color(string) wheels(int) sunroof(Boolean)\n",
    "class Car():\n",
    "    door= 4\n",
    "    color = 'red'\n",
    "    wheels = 4\n",
    "    sunroof = False\n",
    "\n",
    "toyota = Car()\n",
    "bmw = Car()\n",
    "lambo = Car()\n",
    "\n",
    "print(toyota.wheels)\n",
    "print(bmw.sunroof)"
   ]
  },
  {
   "cell_type": "markdown",
   "metadata": {},
   "source": [
    "## The \\__init\\__() Method <br>\n",
    "<p>This method is used in almost every created class, and called only once upon the creation of the class instance. This method will initialize all variables needed for the object.</p>"
   ]
  },
  {
   "cell_type": "code",
   "execution_count": 19,
   "metadata": {},
   "outputs": [
    {
     "name": "stdout",
     "output_type": "stream",
     "text": [
      "4\n",
      "black\n",
      "True\n",
      "False\n",
      "False\n",
      "=================\n",
      "2\n",
      "<class '__main__.Car'>\n",
      "False\n"
     ]
    }
   ],
   "source": [
    "class Car():\n",
    "    wheels = 4   #default attribute\n",
    "    \n",
    "    #create the Constructor AKA __init__ method\n",
    "    #methods are functions that belong to a class\n",
    "    #think innit method lets you pass your own instnace\n",
    "    def __init__(self, d, color,window_tint=True, spare_tire=True, s_t=False):      #(pass name of class, then variables)\n",
    "        self.door = d\n",
    "        self.color = color\n",
    "        self.window_tint =True\n",
    "        self.spare_tire = s_t\n",
    "        self.sunroof = False #Default attribute\n",
    "        \n",
    "ford = Car(4,\"black\",True,True)\n",
    "print(ford.door)\n",
    "print(ford.color)\n",
    "print(ford.window_tint)\n",
    "print(ford.spare_tire)\n",
    "print(ford.sunroof)\n",
    "\n",
    "print('=================')\n",
    "\n",
    "mazda = Car(2,'orange')\n",
    "print(mazda.door)\n",
    "print(type(mazda))\n",
    "print(mazda.spare_tire)"
   ]
  },
  {
   "cell_type": "markdown",
   "metadata": {},
   "source": [
    "##### The 'self' Attribute <br>\n",
    "<p>This attribute is required to keep track of specific instance's attributes. Without the self attribute, the program would not know how to reference or keep track of an instance's attributes.</p>"
   ]
  },
  {
   "cell_type": "code",
   "execution_count": 14,
   "metadata": {},
   "outputs": [
    {
     "name": "stdout",
     "output_type": "stream",
     "text": [
      "4\n",
      "black\n",
      "2\n"
     ]
    }
   ],
   "source": [
    "# see above"
   ]
  },
  {
   "cell_type": "markdown",
   "metadata": {},
   "source": [
    "## Class Attributes <br>\n",
    "<p>While variables are inside of a class, they are referred to as attributes and not variables. When someone says 'attribute' you know they're speaking about a class. Attributes can be initialized through the init method, or outside of it.</p>"
   ]
  },
  {
   "cell_type": "markdown",
   "metadata": {},
   "source": [
    "##### Initializing Attributes"
   ]
  },
  {
   "cell_type": "code",
   "execution_count": 36,
   "metadata": {},
   "outputs": [],
   "source": [
    "# see above\n",
    "#kind of like the append function just works for list I think? \n",
    "#a Company's backend may look like this\n",
    "\n",
    "\n",
    "#think I copied and pasted to a part below SO DISREGARD THIS PART\n",
    "# class Employee():\n",
    "#     def __init__(self, first, last, salary=60000): #salary defaults at 60000 but can be changed\n",
    "#         self.first_name = first\n",
    "#         self.last_name = last\n",
    "#         self.salary = salary\n",
    "#         self.email = f'{first.lower()}.{last.lower()}@codingsummit.org'\n",
    "        \n",
    "#     def full_name(self):\n",
    "#         return f'{self.first_name} {self.last_name}'\n",
    "    \n",
    "#     def applyRaise(self,raise_amount = 1.03):\n",
    "#         self.salary = self.salary * raise_amount   #shorthand: self/salary *= raise_amount\n",
    "        \n",
    "#     def change_last_name(self, last):\n",
    "#         self.last_name = last\n",
    "#         self.email = f'{self.first_name.lower()}.{last.lower()}@codingsummit.org'\n",
    "\n",
    "# employee1 = Employee('Shoha', 'Tsuchida')\n",
    "# print(employee1.email)\n",
    "# print(employee1.full_name())\n",
    "\n",
    "# employee1.change_last_name('The Coding God')\n",
    "# print(employee1.full_name())\n",
    "# employee1.last\n",
    "\n",
    "        "
   ]
  },
  {
   "cell_type": "code",
   "execution_count": 35,
   "metadata": {},
   "outputs": [
    {
     "data": {
      "text/plain": [
       "61800.0"
      ]
     },
     "execution_count": 35,
     "metadata": {},
     "output_type": "execute_result"
    }
   ],
   "source": [
    "# employee1.applyRaise()\n",
    "# employee1.salary\n"
   ]
  },
  {
   "cell_type": "markdown",
   "metadata": {},
   "source": [
    "##### Accessing Class Attributes"
   ]
  },
  {
   "cell_type": "code",
   "execution_count": null,
   "metadata": {
    "scrolled": true
   },
   "outputs": [],
   "source": [
    "# See Above"
   ]
  },
  {
   "cell_type": "markdown",
   "metadata": {},
   "source": [
    "##### Setting Defaults for Attributes"
   ]
  },
  {
   "cell_type": "code",
   "execution_count": 30,
   "metadata": {},
   "outputs": [
    {
     "name": "stdout",
     "output_type": "stream",
     "text": [
      "matte green\n"
     ]
    }
   ],
   "source": [
    "# see above"
   ]
  },
  {
   "cell_type": "markdown",
   "metadata": {},
   "source": [
    "##### Changing Class Attributes <br>\n",
    "<p>Keep in mind there are global class attributes and then there are attributes only available to each class instance which won't effect other classes.</p>"
   ]
  },
  {
   "cell_type": "code",
   "execution_count": 8,
   "metadata": {},
   "outputs": [
    {
     "name": "stdout",
     "output_type": "stream",
     "text": [
      "matte green\n"
     ]
    }
   ],
   "source": [
    "class Car():\n",
    "    wheels = 4   \n",
    "    \n",
    "    def __init__(self, d, color,window_tint=True, spare_tire=True, s_t=False):      \n",
    "        self.door = d\n",
    "        self.color = color\n",
    "\n",
    "mazda = Car(2, 'oragne')\n",
    "mazda.color = 'matte green' \n",
    "print(mazda.color)"
   ]
  },
  {
   "cell_type": "code",
   "execution_count": 5,
   "metadata": {},
   "outputs": [
    {
     "name": "stdout",
     "output_type": "stream",
     "text": [
      "3\n"
     ]
    }
   ],
   "source": [
    "mazda.wheels = 3\n",
    "print(mazda.wheels)"
   ]
  },
  {
   "cell_type": "markdown",
   "metadata": {},
   "source": [
    "##### In-Class Exercise #2 - Add a doors and seats attribute to your 'Car' class then print out two different instances with different doors and seats"
   ]
  },
  {
   "cell_type": "code",
   "execution_count": 23,
   "metadata": {},
   "outputs": [
    {
     "name": "stdout",
     "output_type": "stream",
     "text": [
      "4\n",
      "black\n",
      "4\n"
     ]
    }
   ],
   "source": [
    "class Car():\n",
    "    color =  \"black\"\n",
    "    def __init__(self, doors, seats):\n",
    "        self.doors = doors\n",
    "        self.seats = seats\n",
    "        self.wheels = 4\n",
    "mazda=Car(4,6)\n",
    "tesla = Car(4,8)\n",
    "nissan = Car(2,2)\n",
    "\n",
    "print(mazda.wheels)\n",
    "print(tesla.color)\n",
    "print(nissan.doors)\n"
   ]
  },
  {
   "cell_type": "code",
   "execution_count": 24,
   "metadata": {},
   "outputs": [
    {
     "data": {
      "text/plain": [
       "mappingproxy({'__module__': '__main__',\n",
       "              'wheels': 4,\n",
       "              '__init__': <function __main__.Car.__init__(self, d, color, seats)>,\n",
       "              '__dict__': <attribute '__dict__' of 'Car' objects>,\n",
       "              '__weakref__': <attribute '__weakref__' of 'Car' objects>,\n",
       "              '__doc__': None})"
      ]
     },
     "execution_count": 24,
     "metadata": {},
     "output_type": "execute_result"
    }
   ],
   "source": [
    "Car.__dict__"
   ]
  },
  {
   "cell_type": "code",
   "execution_count": 27,
   "metadata": {},
   "outputs": [
    {
     "name": "stdout",
     "output_type": "stream",
     "text": [
      "{'door': 2, 'color': 'orange', 'window_tint': True, 'spare_tire': False, 'sunroof': False, 'wheels': 3}\n"
     ]
    }
   ],
   "source": [
    "print(mazda.__dict__)     #get it as a dictionary when in the innit\n",
    "\n",
    "# for key in mazda.__dict__:\n",
    "#     print(key, mazda.__dict__[key])"
   ]
  },
  {
   "cell_type": "markdown",
   "metadata": {},
   "source": [
    "## Class Methods <br>\n",
    "<p>While inside of a class, functions are referred to as 'methods'. If you hear someone mention methods, they're speaking about classes. Methods are essentially functions, but only callable on the instances of a class.</p>"
   ]
  },
  {
   "cell_type": "markdown",
   "metadata": {},
   "source": [
    "##### Creating"
   ]
  },
  {
   "cell_type": "code",
   "execution_count": 15,
   "metadata": {},
   "outputs": [
    {
     "name": "stdout",
     "output_type": "stream",
     "text": [
      "shoha.tsuchida@codingsummit.org\n",
      "Shoha Tsuchida\n",
      "60000\n",
      "61800.0\n",
      "Shoha The Coding God\n",
      "shoha.the_coding_god@codingsummit.org\n"
     ]
    }
   ],
   "source": [
    "class Employee():\n",
    "    def __init__(self, first, last, salary=60000): #salary defaults at 60000 but can be changed\n",
    "        self.first_name = first\n",
    "        self.last_name = last\n",
    "        self.salary = salary\n",
    "        self.email = f'{first.lower()}.{last.lower()}@codingsummit.org'\n",
    "        \n",
    "    def full_name(self):\n",
    "        return f'{self.first_name} {self.last_name}'\n",
    "    \n",
    "    def apply_raise(self,raise_amount = 1.03):\n",
    "        self.salary = self.salary * raise_amount   #shorthand: self/salary *= raise_amount\n",
    "        #doesn't return anything new, just changing an attribute inside - like .sort()\n",
    "        \n",
    "    def change_last_name(self, last):\n",
    "        self.last_name = last\n",
    "        email_last_name = '_'.join(last.split())         #gets rid of the spaces in the email\n",
    "        self.email = f'{self.first_name.lower()}.{email_last_name.lower()}@codingsummit.org'\n",
    "        #the argument first not passed in so must grab from attribute: self.first_name\n",
    "        \n",
    "#methods are just the functions that belong in the class\n",
    "\n",
    "employee1 = Employee('Shoha', 'Tsuchida')\n",
    "print(employee1.email)\n",
    "print(employee1.full_name())\n",
    "\n",
    "print(employee1.salary)\n",
    "employee1.apply_raise()\n",
    "print(employee1.salary)\n",
    "\n",
    "employee1.change_last_name('The Coding God')\n",
    "print(employee1.full_name())\n",
    "print(employee1.email)\n",
    "\n"
   ]
  },
  {
   "cell_type": "markdown",
   "metadata": {},
   "source": [
    "##### Calling"
   ]
  },
  {
   "cell_type": "code",
   "execution_count": null,
   "metadata": {},
   "outputs": [],
   "source": [
    "# See Above"
   ]
  },
  {
   "cell_type": "markdown",
   "metadata": {},
   "source": [
    "##### Modifying an Attribute's Value Through a Method"
   ]
  },
  {
   "cell_type": "markdown",
   "metadata": {},
   "source": [
    "# see above: the salary example\n",
    "emp1 = Employee('Shoha', 'T')\n",
    "emp2 = Employee('Ivan', 'W')\n",
    "\n",
    "emp2.apply_raise(1.10)\n",
    "print(emp2.salary)\n",
    "print(emp1.salary)\n",
    "\n",
    "emp2.apply_raise()\n",
    "emp1.apply_raise(1.04)\n",
    "print(emp2.salary)\n",
    "print(emp1.salary)"
   ]
  },
  {
   "cell_type": "markdown",
   "metadata": {},
   "source": [
    "##### Incrementing an Attribute's Value Through a Method"
   ]
  },
  {
   "cell_type": "code",
   "execution_count": 23,
   "metadata": {},
   "outputs": [
    {
     "name": "stdout",
     "output_type": "stream",
     "text": [
      "{'first_name': 'Shoha', 'last_name': 'T', 'salary': 72999.174144, 'email': 'shoha.t@codingsummit.org'}\n",
      "75919.14110976\n",
      "78955.9067541504\n"
     ]
    }
   ],
   "source": [
    "print(emp1.__dict__)\n",
    "\n",
    "emp1.apply_raise(1.04)\n",
    "print(emp1.salary)\n",
    "emp1.apply_raise(1.04)\n",
    "print(emp1.salary)"
   ]
  },
  {
   "cell_type": "markdown",
   "metadata": {},
   "source": [
    "##### In-Class Exercise #3 - Add a method that takes in three parameters of year, doors and seats and prints out a formatted print statement with make, model, year, seats, and doors"
   ]
  },
  {
   "cell_type": "code",
   "execution_count": 27,
   "metadata": {},
   "outputs": [
    {
     "name": "stdout",
     "output_type": "stream",
     "text": [
      "This car is from 1999 and is a Suzuki Grand Vitara and has 4 doors and 6 seats\n",
      "{'make': 'Suzuki', 'model': 'Grand Vitara', 'year': '1999', 'door': 4, 'seats': 6}\n",
      "{'make': 'Tesla', 'model': 'Cyber Truck'}\n"
     ]
    }
   ],
   "source": [
    "# Create class with 2 paramters inside of the __init__ which are make and model\n",
    "class Car():\n",
    "    def __init__(self, make, model):\n",
    "        self.make = make    #self.make are just variable names?; make/model are parameters(can be anything)\n",
    "        self.model = model\n",
    "# Inside of the Car class create a method that has 4 parameter in total (self,year,door,seats)\n",
    "    def addInfo(self, year, door, seats):\n",
    "        self.year = year\n",
    "        self.door = door\n",
    "        self.seats = seats\n",
    "        print(f'This car is from {year} and is a {self.make} {self.model} and has {door} doors and {seats} seats')\n",
    "        \n",
    "\n",
    "# Output: This car is from 2019 and is a Ford Expolorer and has 4 doors and 5 seats\n",
    "my_car = Car('Suzuki', 'Grand Vitara')\n",
    "my_car.addInfo('1999', 4, 6)\n",
    "print(my_car.__dict__)  \n",
    "\n",
    "my_car2 = Car(\"Tesla\", \"Cyber Truck\")\n",
    "print(my_car2.__dict__)\n",
    "\n",
    "\n",
    "#can add more details with the def printInfo OR can just put it in the innit "
   ]
  },
  {
   "cell_type": "markdown",
   "metadata": {},
   "source": [
    "## Inheritance <br>\n",
    "<p>You can create a child-parent relationship between two classes by using inheritance. What this allows you to do is have overriding methods, but also inherit traits from the parent class. Think of it as an actual parent and child, the child will inherit the parent's genes, as will the classes in OOP</p>"
   ]
  },
  {
   "cell_type": "markdown",
   "metadata": {},
   "source": [
    "##### Syntax for Inheriting from a Parent Class"
   ]
  },
  {
   "cell_type": "code",
   "execution_count": 44,
   "metadata": {},
   "outputs": [
    {
     "name": "stdout",
     "output_type": "stream",
     "text": [
      "Make some generic noise\n",
      "Woof\n",
      "Meow\n",
      "4\n",
      "no name\n",
      "Buddy\n"
     ]
    }
   ],
   "source": [
    "# Creation of parent class\n",
    "class Animal():\n",
    "    def __init__(self, name = 'no name'):\n",
    "        self.legs = 4\n",
    "        self.name = name\n",
    "        self.species = 'no assigned species'\n",
    "        \n",
    "    def makeSound(self):\n",
    "        print('Make some generic noise')\n",
    "        \n",
    "# creation of child class\n",
    "class Dog(Animal):\n",
    "    #innit is constructor method to override inherited class\n",
    "    def __init__(self, name, species):\n",
    "        Animal.__init__(self,name)\n",
    "        self.name = name\n",
    "        self.species = species\n",
    "        \n",
    "    def makeSound(self):\n",
    "        print('Woof')\n",
    "        \n",
    "    def fetch(self):\n",
    "        print('Go fetch')\n",
    "        \n",
    "class Cat(Animal):\n",
    "    def makeSound(self):\n",
    "        print('Meow')\n",
    "        \n",
    "random_animal = Animal()\n",
    "my_dog = Dog('Buddy', 'canine')\n",
    "my_cat = Cat()\n",
    "\n",
    "random_animal.makeSound()\n",
    "my_dog.makeSound()\n",
    "my_cat.makeSound()\n",
    "print(my_dog.legs)\n",
    "print(my_cat.name)\n",
    "print(my_dog.name)\n",
    "\n",
    "\n",
    "#polymorphism: same function name(but different signatures) being uses for different types"
   ]
  },
  {
   "cell_type": "markdown",
   "metadata": {},
   "source": [
    "##### The \\__init\\__() Method for a Child Class - super()"
   ]
  },
  {
   "cell_type": "code",
   "execution_count": 63,
   "metadata": {
    "scrolled": true
   },
   "outputs": [
    {
     "name": "stdout",
     "output_type": "stream",
     "text": [
      "some generic sound\n",
      "Bark\n",
      "sigh\n",
      "some generic sound\n",
      "Bark\n",
      "sigh\n"
     ]
    }
   ],
   "source": [
    "class Animal():\n",
    "    def __init__(self, name, species, legs = 4):\n",
    "        self.name = name\n",
    "        self.species = species\n",
    "        self.legs = legs\n",
    "        \n",
    "    def makeSound(self):\n",
    "        self.sound = 'Hello!'\n",
    "        print('some generic sound')\n",
    "        \n",
    "#all the descendants of the animal class can have unique makeSound etc\n",
    "\n",
    "class Dog(Animal):   # ***the input (Animal) tells you what you are inherting from and super grabs that info from us\n",
    "    def __init__(self, name, species, color, legs = 4):\n",
    "        #will execute parent (Aniaml) class's _init__ method\n",
    "        super().__init__(name, species, legs)\n",
    "        self.color = color\n",
    "    \n",
    "    def makeSound(self):\n",
    "        # Execute the parent (Animal) class's makeSound methd\n",
    "        Animal.makeSound(self)\n",
    "        #continue on with own Dog makeSound method (it goes down the line)\n",
    "        print('Bark')\n",
    "    def breathe(self):\n",
    "        print('sigh')\n",
    "        \n",
    "class Mutt(Dog):\n",
    "    def __init__(self, name, species, color, legs=4):\n",
    "        super().__init__(name, species, color, legs)\n",
    "\n",
    "\n",
    "my_wolf = Dog('wolfie', 'wolf species', 'gray')\n",
    "my_wolf.makeSound()\n",
    "my_wolf.breathe()\n",
    "\n",
    "new_dog = Mutt('bob', 'dog', 'brown')\n",
    "new_dog.makeSound() #find the mutts version, doesn't exist so goes to the Dog \n",
    "new_dog.breathe()  #looks for breathe in mutt, then Dog, then Animal\n",
    "\n",
    "\n",
    "\n",
    "#learn more on class first before diving into inheritance and interfaces etc\n",
    "#init is needed to create/represent(instantiate)\n",
    "#objects like my_wolf are the instance of the class"
   ]
  },
  {
   "cell_type": "code",
   "execution_count": 91,
   "metadata": {},
   "outputs": [
    {
     "data": {
      "text/plain": [
       "True"
      ]
     },
     "execution_count": 91,
     "metadata": {},
     "output_type": "execute_result"
    }
   ],
   "source": [
    "class Pet():\n",
    "    def __init__(self, pref):\n",
    "        self.indoor_pref = pref\n",
    "\n",
    "\n",
    "class Animal():\n",
    "    def __init__(self, name, species, legs = 4):\n",
    "        self.name = name\n",
    "        self.species = species\n",
    "        self.legs = legs\n",
    "        self.aniaml = 'animal'\n",
    "\n",
    "class Dog(Animal, Pet):   \n",
    "    def __init__(self, name, species, color, p, legs = 4):\n",
    "        #will execute parent (Aniaml) class's _init__ method\n",
    "        Pet.__init__(self, p)\n",
    "#        super(Animal, Pet).__init__(name, species, legs, p)\n",
    "        self.color = color\n",
    "        \n",
    "terrier = Dog('buddy', 'Boston Terrier', 'brown', True)\n",
    "terrier.indoor_pref\n",
    "        \n",
    "#super allows you to inherit features from multiple clases\n",
    "#HE WILL GET BACK TO YOU ON THIS ONE- using super for 2 classes I think "
   ]
  },
  {
   "cell_type": "markdown",
   "metadata": {},
   "source": [
    "##### Defining Attributes and Methods for the Child Class"
   ]
  },
  {
   "cell_type": "code",
   "execution_count": null,
   "metadata": {},
   "outputs": [],
   "source": [
    "# See Above"
   ]
  },
  {
   "cell_type": "markdown",
   "metadata": {},
   "source": [
    "##### Method Overriding"
   ]
  },
  {
   "cell_type": "code",
   "execution_count": null,
   "metadata": {},
   "outputs": [],
   "source": [
    "# See Above"
   ]
  },
  {
   "cell_type": "markdown",
   "metadata": {},
   "source": [
    "## Classes as Attributes <br>\n",
    "<p>Classes can also be used as attributes within another class. This is useful in situations where you need to keep variables locally stored, instead of globally stored.</p>"
   ]
  },
  {
   "cell_type": "code",
   "execution_count": 77,
   "metadata": {},
   "outputs": [
    {
     "name": "stdout",
     "output_type": "stream",
     "text": [
      "2021 Tesla Cyber Truck <__main__.Battery object at 0x00000172A63CD8B0>\n",
      "20\n",
      "20\n",
      "['', '']\n",
      "['young', '']\n"
     ]
    }
   ],
   "source": [
    "#ties into the HW\n",
    "class Battery():\n",
    "    def __init__(self, cells):\n",
    "        self.volts = 7.8    #these are the attributes w/ self.volt at a default\n",
    "        self.cells = cells\n",
    "    def increaseCells(self):\n",
    "        self.cells +=5\n",
    "        \n",
    "\n",
    "class Car():\n",
    "    def __init__(self, year, make, model, battery):   #instantiate it with parameters and save those to attribute names\n",
    "        self.year = year\n",
    "        self.make = make\n",
    "        self.model = model\n",
    "        self.battery = battery\n",
    "        self.seats = ['','']\n",
    "        \n",
    "    def printInfo(self):\n",
    "        print(self.year, self.make, self.model, self.battery) #special method that does something\n",
    "        \n",
    "batt_1 = Battery(20)\n",
    "tesla = Car(2021, 'Tesla', 'Cyber Truck', batt_1) #putting in a battery object so tesla can do all that the Battery object can do\n",
    "\n",
    "tesla.printInfo()\n",
    "print(batt_1.cells)\n",
    "print(tesla.battery.cells)\n",
    "tesla.battery.increaseCells()  #can affect battery class from car class, storing in a battery\n",
    "        \n",
    "print(tesla.seats)\n",
    "tesla.seats[0]= 'young'\n",
    "print(tesla.seats)\n",
    "        "
   ]
  },
  {
   "cell_type": "markdown",
   "metadata": {},
   "source": [
    "# Exercises"
   ]
  },
  {
   "cell_type": "markdown",
   "metadata": {},
   "source": [
    "### Exercise 1 - Turn the shopping cart program from yesterday into an object-oriented program"
   ]
  },
  {
   "cell_type": "code",
   "execution_count": 139,
   "metadata": {},
   "outputs": [
    {
     "name": "stdout",
     "output_type": "stream",
     "text": [
      "Do you want to : Show/Add/Delete/Quit?add\n",
      "What do you want to add?3\n",
      "how many items do you want? (Please input a digit)2\n",
      "Do you want to : Show/Add/Delete/Quit?show\n"
     ]
    },
    {
     "ename": "NameError",
     "evalue": "name 'showCart' is not defined",
     "output_type": "error",
     "traceback": [
      "\u001b[1;31m---------------------------------------------------------------------------\u001b[0m",
      "\u001b[1;31mNameError\u001b[0m                                 Traceback (most recent call last)",
      "\u001b[1;32m<ipython-input-139-2b1d6ba55fa7>\u001b[0m in \u001b[0;36m<module>\u001b[1;34m\u001b[0m\n\u001b[0;32m     41\u001b[0m \u001b[1;31m# cart1.removeFromCart(my_cart)\u001b[0m\u001b[1;33m\u001b[0m\u001b[1;33m\u001b[0m\u001b[1;33m\u001b[0m\u001b[0m\n\u001b[0;32m     42\u001b[0m \u001b[1;31m# cart1.showCart(my_cart)\u001b[0m\u001b[1;33m\u001b[0m\u001b[1;33m\u001b[0m\u001b[1;33m\u001b[0m\u001b[0m\n\u001b[1;32m---> 43\u001b[1;33m \u001b[0mcart1\u001b[0m\u001b[1;33m.\u001b[0m\u001b[0mrunSimulation\u001b[0m\u001b[1;33m(\u001b[0m\u001b[0mmy_cart\u001b[0m\u001b[1;33m)\u001b[0m\u001b[1;33m\u001b[0m\u001b[1;33m\u001b[0m\u001b[0m\n\u001b[0m\u001b[0;32m     44\u001b[0m \u001b[1;33m\u001b[0m\u001b[0m\n\u001b[0;32m     45\u001b[0m \u001b[1;33m\u001b[0m\u001b[0m\n",
      "\u001b[1;32m<ipython-input-139-2b1d6ba55fa7>\u001b[0m in \u001b[0;36mrunSimulation\u001b[1;34m(self, my_cart)\u001b[0m\n\u001b[0;32m     30\u001b[0m                 \u001b[0mself\u001b[0m\u001b[1;33m.\u001b[0m\u001b[0maddToCart\u001b[0m\u001b[1;33m(\u001b[0m\u001b[0mmy_cart\u001b[0m\u001b[1;33m)\u001b[0m\u001b[1;33m\u001b[0m\u001b[1;33m\u001b[0m\u001b[0m\n\u001b[0;32m     31\u001b[0m             \u001b[1;32melif\u001b[0m \u001b[0mself\u001b[0m\u001b[1;33m.\u001b[0m\u001b[0manswer\u001b[0m\u001b[1;33m.\u001b[0m\u001b[0mlower\u001b[0m\u001b[1;33m(\u001b[0m\u001b[1;33m)\u001b[0m\u001b[1;33m==\u001b[0m \u001b[1;34m'show'\u001b[0m\u001b[1;33m:\u001b[0m\u001b[1;33m\u001b[0m\u001b[1;33m\u001b[0m\u001b[0m\n\u001b[1;32m---> 32\u001b[1;33m                 \u001b[0mshowCart\u001b[0m\u001b[1;33m(\u001b[0m\u001b[0mmy_cart\u001b[0m\u001b[1;33m)\u001b[0m\u001b[1;33m\u001b[0m\u001b[1;33m\u001b[0m\u001b[0m\n\u001b[0m\u001b[0;32m     33\u001b[0m             \u001b[1;32melif\u001b[0m \u001b[0mself\u001b[0m\u001b[1;33m.\u001b[0m\u001b[0manswer\u001b[0m\u001b[1;33m.\u001b[0m\u001b[0mlower\u001b[0m\u001b[1;33m(\u001b[0m\u001b[1;33m)\u001b[0m\u001b[1;33m==\u001b[0m \u001b[1;34m'delete'\u001b[0m\u001b[1;33m:\u001b[0m\u001b[1;33m\u001b[0m\u001b[1;33m\u001b[0m\u001b[0m\n\u001b[0;32m     34\u001b[0m                 \u001b[0mremoveFromCart\u001b[0m\u001b[1;33m(\u001b[0m\u001b[0mmy_cart\u001b[0m\u001b[1;33m)\u001b[0m\u001b[1;33m\u001b[0m\u001b[1;33m\u001b[0m\u001b[0m\n",
      "\u001b[1;31mNameError\u001b[0m: name 'showCart' is not defined"
     ]
    }
   ],
   "source": [
    "# Create a class called cart that retains items and has methods to add, remove, and show\n",
    "\n",
    "class ShoppingCart():\n",
    "    def __init__(self):\n",
    "        self.my_cart = {}\n",
    "        return      \n",
    "    \n",
    "    def addToCart(self,my_cart):\n",
    "        item = input('What do you want to add?')\n",
    "        quantity = input('how many items do you want? (Please input a digit)')\n",
    "        my_cart[item]= quantity\n",
    "    \n",
    "    def showCart(self, my_cart):\n",
    "        print(my_cart)\n",
    "        \n",
    "    def removeFromCart(self, my_cart):\n",
    "        item = input('what do you want to delete')\n",
    "        if item in my_cart:\n",
    "            del my_cart[item]\n",
    "        else:\n",
    "            print('item not found')\n",
    "        \n",
    "    def runSimulation(self, my_cart):\n",
    "        while True:\n",
    "            self.answer = input('Do you want to : Show/Add/Delete/Quit?')\n",
    "            if  self.answer.lower() == 'quit':\n",
    "                showCart(my_cart)\n",
    "                break    \n",
    "            elif self.answer.lower()== 'add':\n",
    "                self.addToCart(my_cart)\n",
    "            elif self.answer.lower()== 'show':\n",
    "                showCart(my_cart)\n",
    "            elif self.answer.lower()== 'delete':\n",
    "                removeFromCart(my_cart)\n",
    "            else: \n",
    "                print('invalid input')\n",
    "\n",
    "cart1 = ShoppingCart()\n",
    "# cart1.addToCart(my_cart)\n",
    "# cart1.showCart(my_cart)\n",
    "# cart1.removeFromCart(my_cart)\n",
    "# cart1.showCart(my_cart)\n",
    "cart1.runSimulation(my_cart)\n",
    "\n",
    "        \n",
    "    "
   ]
  },
  {
   "cell_type": "code",
   "execution_count": null,
   "metadata": {},
   "outputs": [],
   "source": [
    "class Employee():\n",
    "    def __init__(self, first, last, salary=60000): #salary defaults at 60000 but can be changed\n",
    "        self.first_name = first\n",
    "        self.last_name = last\n",
    "        self.salary = salary\n",
    "        self.email = f'{first.lower()}.{last.lower()}@codingsummit.org'\n",
    "        \n",
    "    def full_name(self):\n",
    "        return f'{self.first_name} {self.last_name}'\n",
    "    \n",
    "    def apply_raise(self,raise_amount = 1.03):\n",
    "        self.salary = self.salary * raise_amount   #shorthand: self/salary *= raise_amount\n",
    "        #doesn't return anything new, just changing an attribute inside - like .sort()\n",
    "        \n",
    "    def change_last_name(self, last):\n",
    "        self.last_name = last\n",
    "        email_last_name = '_'.join(last.split())         #gets rid of the spaces in the email\n",
    "        self.email = f'{self.first_name.lower()}.{email_last_name.lower()}@codingsummit.org'\n",
    "        #the argument first not passed in so must grab from attribute: self.first_name\n",
    "        \n",
    "#methods are just the functions that belong in the class\n",
    "\n",
    "employee1 = Employee('Shoha', 'Tsuchida')\n",
    "print(employee1.email)\n",
    "print(employee1.full_name())\n",
    "\n",
    "print(employee1.salary)\n",
    "employee1.apply_raise()\n",
    "print(employee1.salary)\n",
    "\n",
    "employee1.change_last_name('The Coding God')\n",
    "print(employee1.full_name())\n",
    "print(employee1.email)"
   ]
  },
  {
   "cell_type": "markdown",
   "metadata": {},
   "source": [
    "### Exercise 2 - Write a Python class which has two methods get_String and print_String. get_String accept a string from the user and print_String print the string in upper case"
   ]
  },
  {
   "cell_type": "code",
   "execution_count": 84,
   "metadata": {},
   "outputs": [
    {
     "name": "stdout",
     "output_type": "stream",
     "text": [
      "Give me a stringwho\n",
      "who\n",
      "Give me a stringwho\n",
      "WHO\n"
     ]
    }
   ],
   "source": [
    "class Python():\n",
    "    def getString(self):\n",
    "        string = input('Give me a string')\n",
    "        print(string)\n",
    "    def printString(self):\n",
    "        string = input('Give me a string')\n",
    "        print(string.upper())\n",
    "        \n",
    "new_string = Python()\n",
    "new_string.getString()\n",
    "new_string.printString()"
   ]
  }
 ],
 "metadata": {
  "kernelspec": {
   "display_name": "Python 3",
   "language": "python",
   "name": "python3"
  },
  "language_info": {
   "codemirror_mode": {
    "name": "ipython",
    "version": 3
   },
   "file_extension": ".py",
   "mimetype": "text/x-python",
   "name": "python",
   "nbconvert_exporter": "python",
   "pygments_lexer": "ipython3",
   "version": "3.8.8"
  }
 },
 "nbformat": 4,
 "nbformat_minor": 2
}
